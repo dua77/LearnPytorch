{
 "cells": [
  {
   "cell_type": "markdown",
   "metadata": {},
   "source": [
    "# Singleton Pattern in python\n",
    "References:\n",
    "* https://www.youtube.com/watch?v=qzCHtYoqh_I\n",
    "* https://www.youtube.com/watch?v=WiaZJbGJyXo"
   ]
  },
  {
   "cell_type": "code",
   "execution_count": 14,
   "metadata": {},
   "outputs": [],
   "source": [
    "class OnlyOne:\n",
    "    __is_singleton = None\n",
    "    __value = 0\n",
    "    \n",
    "    # Like init, it's called when we create an instance of object\n",
    "    def __new__(self):\n",
    "        # Check if instance had not been created yet\n",
    "        if self.__is_singleton == None:\n",
    "            print('Im a virgin')\n",
    "            # Create instance of class\n",
    "            self.__is_singleton = super(OnlyOne, self).__new__(self)\n",
    "        # Return new instance or old created\n",
    "        return self.__is_singleton\n",
    "    \n",
    "    @property\n",
    "    def value(self):\n",
    "        return self.__value\n",
    "    \n",
    "    @value.setter\n",
    "    def value(self, val):\n",
    "        self.__value = val"
   ]
  },
  {
   "cell_type": "code",
   "execution_count": 16,
   "metadata": {},
   "outputs": [
    {
     "name": "stdout",
     "output_type": "stream",
     "text": [
      "Object address <__main__.OnlyOne object at 0x7f5085a2eef0>\n",
      "10\n",
      "Object address <__main__.OnlyOne object at 0x7f5085a2eef0>\n",
      "Object address <__main__.OnlyOne object at 0x7f5085a2eef0>\n",
      "Object address <__main__.OnlyOne object at 0x7f5085a2eef0>\n",
      "10\n"
     ]
    }
   ],
   "source": [
    "# Allocate for the first time\n",
    "a = OnlyOne()\n",
    "a.value = 10\n",
    "print('Object address',a)\n",
    "b = OnlyOne()\n",
    "print(b.value)\n",
    "print('Object address',b)\n",
    "c = OnlyOne()\n",
    "print('Object address',c)\n",
    "d = OnlyOne()\n",
    "print('Object address',d)\n",
    "print(d.value)"
   ]
  }
 ],
 "metadata": {
  "kernelspec": {
   "display_name": "Python 3",
   "language": "python",
   "name": "python3"
  },
  "language_info": {
   "codemirror_mode": {
    "name": "ipython",
    "version": 3
   },
   "file_extension": ".py",
   "mimetype": "text/x-python",
   "name": "python",
   "nbconvert_exporter": "python",
   "pygments_lexer": "ipython3",
   "version": "3.5.2"
  }
 },
 "nbformat": 4,
 "nbformat_minor": 2
}
