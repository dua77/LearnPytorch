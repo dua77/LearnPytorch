{
 "cells": [
  {
   "cell_type": "markdown",
   "metadata": {},
   "source": [
    "## Learning Pytorch\n",
    "References:\n",
    "* https://towardsdatascience.com/pytorch-tutorial-distilled-95ce8781a89c\n",
    "* http://adventuresinmachinelearning.com/pytorch-tutorial-deep-learning/\n",
    "* https://hsaghir.github.io/data_science/pytorch_starter/\n",
    "* https://jdhao.github.io/2017/11/12/pytorch-computation-graph/\n",
    "* https://discuss.pytorch.org/t/print-autograd-graph/692/4\n",
    "* https://medium.com/intuitionmachine/pytorch-dynamic-computational-graphs-and-modular-deep-learning-7e7f89f18d1\n",
    "* https://medium.com/init27-labs/pytorch-basics-in-4-minutes-c7814fa5f03d\n",
    "* https://github.com/PaddlePaddle/VisualDL\n",
    "* https://www.youtube.com/watch?v=rrekAv9Fml4\n",
    "* https://www.youtube.com/watch?v=LAMwEJZqesU\n",
    "* https://github.com/lanpa/tensorboard-pytorch\n",
    "* https://github.com/lanpa/tensorboard-pytorch-examples"
   ]
  },
  {
   "cell_type": "code",
   "execution_count": 1,
   "metadata": {
    "collapsed": true
   },
   "outputs": [],
   "source": [
    "import torch\n",
    "import torch.nn as nn\n",
    "import torch.optim as optim\n",
    "from __future__ import print_function\n",
    "import os\n",
    "os.environ[\"CUDA_VISIBLE_DEVICES\"] = str(0)"
   ]
  },
  {
   "cell_type": "markdown",
   "metadata": {},
   "source": [
    "### Create Tensors"
   ]
  },
  {
   "cell_type": "code",
   "execution_count": 2,
   "metadata": {},
   "outputs": [
    {
     "name": "stdout",
     "output_type": "stream",
     "text": [
      "1x2 tensor:\n",
      "tensor([ 1,  2])\n",
      "torch.Size([2])\n",
      "\n",
      "2x2 tensor:\n",
      "tensor([[ 1,  2],\n",
      "        [ 3,  4]])\n",
      "torch.Size([2, 2])\n",
      "All rows from first collumn\n",
      "tensor([ 1,  3])\n",
      "torch.Size([2])\n",
      "\n",
      "Non-initialized 5x3 tensor:\n",
      "tensor([[ 1.4050e+14,  6.7512e+07,  0.0000e+00],\n",
      "        [ 0.0000e+00,  0.0000e+00,  0.0000e+00],\n",
      "        [ 0.0000e+00,  0.0000e+00,  0.0000e+00],\n",
      "        [ 0.0000e+00,  0.0000e+00,  0.0000e+00],\n",
      "        [ 0.0000e+00,  0.0000e+00,  1.2800e+02]])\n",
      "\n",
      "Random 5x3 tensor:\n",
      "tensor([[ 0.9730,  0.5171,  0.3695],\n",
      "        [ 0.7178,  0.7315,  0.0203],\n",
      "        [ 0.6671,  0.0057,  0.5259],\n",
      "        [ 0.8587,  0.3935,  0.2989],\n",
      "        [ 0.4854,  0.9624,  0.5239]])\n",
      "\n",
      "Zeros 5x3 tensor:\n",
      "tensor([[ 0,  0,  0],\n",
      "        [ 0,  0,  0],\n",
      "        [ 0,  0,  0],\n",
      "        [ 0,  0,  0],\n",
      "        [ 0,  0,  0]])\n",
      "\n",
      "Zeros 5x3 tensor:\n",
      "tensor([[ 1.,  1.,  1.],\n",
      "        [ 1.,  1.,  1.],\n",
      "        [ 1.,  1.,  1.],\n",
      "        [ 1.,  1.,  1.],\n",
      "        [ 1.,  1.,  1.]], dtype=torch.float64)\n",
      "\n",
      "Zeros 5x3 tensor:\n",
      "tensor([[ 2.,  2.,  2.],\n",
      "        [ 2.,  2.,  2.],\n",
      "        [ 2.,  2.,  2.],\n",
      "        [ 2.,  2.,  2.],\n",
      "        [ 2.,  2.,  2.]], dtype=torch.float64)\n"
     ]
    }
   ],
   "source": [
    "# Create a matrix 2x2\n",
    "x = torch.tensor([1, 2])\n",
    "print('1x2 tensor:')\n",
    "print(x)\n",
    "print(x.size())\n",
    "\n",
    "# Create a matrix 2x2\n",
    "x = torch.tensor([[1, 2],[3, 4]])\n",
    "print('\\n2x2 tensor:')\n",
    "print(x)\n",
    "print(x.size())\n",
    "print('All rows from first collumn')\n",
    "# We can have all numpy cool matrix sub-indexing\n",
    "print(x[:, 0])\n",
    "print(x[:, 0].size())\n",
    "\n",
    "## Create unitialized 5x3 tensor\n",
    "x = torch.empty(5, 3, dtype=torch.long)\n",
    "print('\\nNon-initialized 5x3 tensor:')\n",
    "print(x)\n",
    "\n",
    "# Create random 5x3 tensor\n",
    "x = torch.rand(5, 3)\n",
    "print('\\nRandom 5x3 tensor:')\n",
    "print(x)\n",
    "\n",
    "# Create 5x3 zeros tensor of type \n",
    "print('\\nZeros 5x3 tensor:')\n",
    "x = torch.zeros(5, 3, dtype=torch.long)\n",
    "print(x)\n",
    "\n",
    "# Create 5x3 zeros tensor of type \n",
    "print('\\nZeros 5x3 tensor:')\n",
    "x = torch.ones(5, 3, dtype=torch.double)\n",
    "print(x)\n",
    "\n",
    "# Create 5x3 zeros tensor of type \n",
    "print('\\nZeros 5x3 tensor:')\n",
    "y= torch.ones(5, 3, dtype=torch.double) * 2\n",
    "print(y)"
   ]
  },
  {
   "cell_type": "markdown",
   "metadata": {},
   "source": [
    "### Operations"
   ]
  },
  {
   "cell_type": "code",
   "execution_count": 3,
   "metadata": {},
   "outputs": [
    {
     "name": "stdout",
     "output_type": "stream",
     "text": [
      "tensor([[ 3.,  3.,  3.],\n",
      "        [ 3.,  3.,  3.],\n",
      "        [ 3.,  3.,  3.],\n",
      "        [ 3.,  3.,  3.],\n",
      "        [ 3.,  3.,  3.]], dtype=torch.float64)\n",
      "tensor([[ 2.,  2.,  2.],\n",
      "        [ 2.,  2.,  2.],\n",
      "        [ 2.,  2.,  2.],\n",
      "        [ 2.,  2.,  2.],\n",
      "        [ 2.,  2.,  2.]], dtype=torch.float64)\n",
      "tensor([[ 3.5000,  3.5000,  3.5000],\n",
      "        [ 3.5000,  3.5000,  3.5000],\n",
      "        [ 3.5000,  3.5000,  3.5000],\n",
      "        [ 3.5000,  3.5000,  3.5000],\n",
      "        [ 3.5000,  3.5000,  3.5000]], dtype=torch.float64)\n",
      "tensor([ 3.5000,  3.5000,  3.5000,  3.5000,  3.5000,  3.5000,  3.5000,\n",
      "         3.5000,  3.5000,  3.5000,  3.5000,  3.5000,  3.5000,  3.5000,\n",
      "         3.5000], dtype=torch.float64)\n",
      "torch.Size([15])\n",
      "tensor([[ 3.5000,  3.5000,  3.5000,  3.5000,  3.5000],\n",
      "        [ 3.5000,  3.5000,  3.5000,  3.5000,  3.5000],\n",
      "        [ 3.5000,  3.5000,  3.5000,  3.5000,  3.5000]], dtype=torch.float64)\n",
      "torch.Size([3, 5])\n"
     ]
    }
   ],
   "source": [
    "print(x+y)\n",
    "print(x*y)\n",
    "print((x+6)/y)\n",
    "\n",
    "# Reshape\n",
    "print(((x+6)/y).view(15))\n",
    "print(((x+6)/y).view(15).size())\n",
    "print(((x+6)/y).view(3,5))\n",
    "print(((x+6)/y).view(3,5).size())"
   ]
  },
  {
   "cell_type": "markdown",
   "metadata": {},
   "source": [
    "### Numpy Bridge"
   ]
  },
  {
   "cell_type": "code",
   "execution_count": 4,
   "metadata": {},
   "outputs": [
    {
     "name": "stdout",
     "output_type": "stream",
     "text": [
      "[[2. 2. 2.]\n",
      " [2. 2. 2.]\n",
      " [2. 2. 2.]\n",
      " [2. 2. 2.]\n",
      " [2. 2. 2.]]\n",
      "(5, 3)\n",
      "<class 'numpy.ndarray'>\n",
      "tensor([[ 2.,  2.,  2.],\n",
      "        [ 2.,  2.,  2.],\n",
      "        [ 2.,  2.,  2.],\n",
      "        [ 2.,  2.,  2.],\n",
      "        [ 2.,  2.,  2.]], dtype=torch.float64)\n",
      "torch.Size([5, 3])\n",
      "<class 'torch.Tensor'>\n"
     ]
    }
   ],
   "source": [
    "# Convert torch tensor to numpy\n",
    "y_numpy = y.numpy()\n",
    "print(y_numpy)\n",
    "print(y_numpy.shape)\n",
    "print(type(y_numpy))\n",
    "\n",
    "# Convert numpy ndarray to torch\n",
    "y_torch = torch.from_numpy(y_numpy)\n",
    "print(y_torch)\n",
    "print(y_torch.size())\n",
    "print(type(y_torch))"
   ]
  },
  {
   "cell_type": "markdown",
   "metadata": {},
   "source": [
    "### Working with GPU"
   ]
  },
  {
   "cell_type": "code",
   "execution_count": 5,
   "metadata": {},
   "outputs": [
    {
     "name": "stdout",
     "output_type": "stream",
     "text": [
      "True\n",
      "tensor([[-1.5000, -1.5000, -1.5000],\n",
      "        [-1.5000, -1.5000, -1.5000],\n",
      "        [-1.5000, -1.5000, -1.5000],\n",
      "        [-1.5000, -1.5000, -1.5000],\n",
      "        [-1.5000, -1.5000, -1.5000]], dtype=torch.float64, device='cuda:0')\n",
      "tensor([[-1.5000, -1.5000, -1.5000],\n",
      "        [-1.5000, -1.5000, -1.5000],\n",
      "        [-1.5000, -1.5000, -1.5000],\n",
      "        [-1.5000, -1.5000, -1.5000],\n",
      "        [-1.5000, -1.5000, -1.5000]], dtype=torch.float64)\n"
     ]
    }
   ],
   "source": [
    "print(torch.cuda.is_available())\n",
    "if torch.cuda.is_available():\n",
    "    # Point to your GPU\n",
    "    device = torch.device(\"cuda:0\") \n",
    "    # Move tensor on GPU\n",
    "    x_gpu = x.to(device)\n",
    "    y_gpu = y.to(device)\n",
    "    # Create tensor on GPU\n",
    "    b_gpu = torch.ones_like(x, device=device) + 3.5\n",
    "    # Result and the calculation will be on the GPU\n",
    "    result = x_gpu + y_gpu - b_gpu\n",
    "    print(result)\n",
    "    # Move to CPU\n",
    "    result_cpu = result.to(\"cpu\", torch.double)\n",
    "    print(result_cpu)"
   ]
  },
  {
   "cell_type": "markdown",
   "metadata": {},
   "source": [
    "### Autograd"
   ]
  },
  {
   "cell_type": "code",
   "execution_count": 6,
   "metadata": {},
   "outputs": [
    {
     "name": "stdout",
     "output_type": "stream",
     "text": [
      "tensor([ 10.])\n",
      "<AddBackward1 object at 0x7fc8e3127eb8>\n"
     ]
    }
   ],
   "source": [
    "a = torch.ones(1, requires_grad=True)\n",
    "b = torch.ones(1, requires_grad=True)\n",
    "c = torch.ones(1, requires_grad=True)\n",
    "y = ((2*a) * (3*b)) + (4*c)\n",
    "print(y)\n",
    "y.backward()\n",
    "print(y.grad_fn)"
   ]
  },
  {
   "cell_type": "code",
   "execution_count": 7,
   "metadata": {},
   "outputs": [
    {
     "name": "stdout",
     "output_type": "stream",
     "text": [
      "tensor([ 6.])\n",
      "tensor([ 6.])\n",
      "tensor([ 4.])\n"
     ]
    }
   ],
   "source": [
    "print(a.grad)\n",
    "print(b.grad)\n",
    "print(c.grad)"
   ]
  },
  {
   "cell_type": "markdown",
   "metadata": {},
   "source": [
    "### Simple MLP for XOR problem"
   ]
  },
  {
   "cell_type": "code",
   "execution_count": 8,
   "metadata": {},
   "outputs": [],
   "source": [
    "class Net(nn.Module):\n",
    "    # Define the Network structure\n",
    "    def __init__(self):\n",
    "        super(Net, self).__init__()\n",
    "        self.fc1 = nn.Linear(2, 50)  # 2 Input noses, 50 in middle layers\n",
    "        self.fc2 = nn.Linear(50, 1)  # 50 middle layer, 1 output nodes\n",
    "        self.rl1 = nn.ReLU()\n",
    "        self.rl2 = nn.ReLU()\n",
    "\n",
    "    # Forward propagation definition\n",
    "    def forward(self, x):\n",
    "        x = self.fc1(x)\n",
    "        x = self.rl1(x)\n",
    "        x = self.fc2(x)\n",
    "        x = self.rl2(x)\n",
    "        return x\n"
   ]
  },
  {
   "cell_type": "code",
   "execution_count": 9,
   "metadata": {},
   "outputs": [
    {
     "name": "stdout",
     "output_type": "stream",
     "text": [
      "Net(\n",
      "  (fc1): Linear(in_features=2, out_features=50, bias=True)\n",
      "  (fc2): Linear(in_features=50, out_features=1, bias=True)\n",
      "  (rl1): ReLU()\n",
      "  (rl2): ReLU()\n",
      ")\n"
     ]
    }
   ],
   "source": [
    "net = Net()\n",
    "print(net)\n",
    "# Loss and optimization\n",
    "criterion = nn.MSELoss()\n",
    "optimizer = optim.SGD(net.parameters(), lr=0.1, momentum=0.1)\n",
    "\n",
    "trainingdataX = [[[0.01, 0.01], [0.01, 0.90], [0.90, 0.01], [0.95, 0.95]], \n",
    "                 [[0.02, 0.03], [0.04, 0.95], [0.97, 0.02], [0.96, 0.95]]]\n",
    "trainingdataY = [[[0.01], [0.90], [0.90], [0.01]], [[0.04], [0.97], [0.98], [0.1]]]\n",
    "num_epoch = 20"
   ]
  },
  {
   "cell_type": "code",
   "execution_count": 10,
   "metadata": {},
   "outputs": [
    {
     "name": "stdout",
     "output_type": "stream",
     "text": [
      "loss:  0.40504997968673706\n",
      "loss:  0.40504997968673706\n",
      "loss:  0.40504997968673706\n",
      "loss:  0.40504997968673706\n",
      "loss:  0.40504997968673706\n",
      "loss:  0.40504997968673706\n",
      "loss:  0.40504997968673706\n",
      "loss:  0.40504997968673706\n",
      "loss:  0.40504997968673706\n",
      "loss:  0.40504997968673706\n",
      "loss:  0.40504997968673706\n",
      "loss:  0.40504997968673706\n",
      "loss:  0.40504997968673706\n",
      "loss:  0.40504997968673706\n",
      "loss:  0.40504997968673706\n",
      "loss:  0.40504997968673706\n",
      "loss:  0.40504997968673706\n",
      "loss:  0.40504997968673706\n",
      "loss:  0.40504997968673706\n",
      "loss:  0.40504997968673706\n"
     ]
    }
   ],
   "source": [
    "for epoch in range(num_epoch):\n",
    "    running_loss = 0.0\n",
    "    for i, data in enumerate(trainingdataX, 0):\n",
    "        inputs = data\n",
    "        labels = trainingdataY[i]\n",
    "        inputs = torch.FloatTensor(inputs)\n",
    "        labels = torch.FloatTensor(labels)\n",
    "        optimizer.zero_grad()\n",
    "        outputs = net(inputs)\n",
    "        loss = criterion(outputs, labels)\n",
    "        loss.backward()\n",
    "        optimizer.step()\n",
    "        running_loss += loss.item()\n",
    "        if i % 100 == 0:\n",
    "            print(\"loss: \", running_loss)\n",
    "            running_loss = 0.0"
   ]
  }
 ],
 "metadata": {
  "kernelspec": {
   "display_name": "Python 3",
   "language": "python",
   "name": "python3"
  },
  "language_info": {
   "codemirror_mode": {
    "name": "ipython",
    "version": 3
   },
   "file_extension": ".py",
   "mimetype": "text/x-python",
   "name": "python",
   "nbconvert_exporter": "python",
   "pygments_lexer": "ipython3",
   "version": "3.5.2"
  }
 },
 "nbformat": 4,
 "nbformat_minor": 2
}
