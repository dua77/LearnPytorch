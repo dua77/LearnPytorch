{
 "cells": [
  {
   "cell_type": "markdown",
   "metadata": {},
   "source": [
    "## Learning Pytorch\n",
    "References:\n",
    "* https://towardsdatascience.com/pytorch-tutorial-distilled-95ce8781a89c\n",
    "* http://adventuresinmachinelearning.com/pytorch-tutorial-deep-learning/\n",
    "* https://hsaghir.github.io/data_science/pytorch_starter/\n",
    "* https://jdhao.github.io/2017/11/12/pytorch-computation-graph/\n",
    "* https://discuss.pytorch.org/t/print-autograd-graph/692/4\n",
    "* https://medium.com/intuitionmachine/pytorch-dynamic-computational-graphs-and-modular-deep-learning-7e7f89f18d1\n",
    "* https://medium.com/init27-labs/pytorch-basics-in-4-minutes-c7814fa5f03d\n",
    "* https://github.com/PaddlePaddle/VisualDL\n",
    "* https://www.youtube.com/watch?v=rrekAv9Fml4\n",
    "* https://www.youtube.com/watch?v=LAMwEJZqesU\n",
    "* https://github.com/lanpa/tensorboard-pytorch\n",
    "* https://github.com/lanpa/tensorboard-pytorch-examples"
   ]
  },
  {
   "cell_type": "code",
   "execution_count": 1,
   "metadata": {},
   "outputs": [],
   "source": [
    "import torch\n",
    "import torch.nn as nn\n",
    "import torch.optim as optim\n",
    "from __future__ import print_function\n",
    "import os\n",
    "from tensorboardX import SummaryWriter\n",
    "os.environ[\"CUDA_VISIBLE_DEVICES\"] = str(0)"
   ]
  },
  {
   "cell_type": "code",
   "execution_count": null,
   "metadata": {},
   "outputs": [],
   "source": []
  },
  {
   "cell_type": "markdown",
   "metadata": {},
   "source": [
    "### Create Tensors"
   ]
  },
  {
   "cell_type": "code",
   "execution_count": 2,
   "metadata": {},
   "outputs": [
    {
     "name": "stdout",
     "output_type": "stream",
     "text": [
      "1x2 tensor:\n",
      "tensor([ 1,  2])\n",
      "torch.Size([2])\n",
      "\n",
      "2x2 tensor:\n",
      "tensor([[ 1,  2],\n",
      "        [ 3,  4]])\n",
      "torch.Size([2, 2])\n",
      "All rows from first collumn\n",
      "tensor([ 1,  3])\n",
      "torch.Size([2])\n",
      "\n",
      "Non-initialized 5x3 tensor:\n",
      "tensor([[ 1.4053e+14,  1.4053e+14,  3.4360e+10],\n",
      "        [ 8.3152e+18,  7.0094e+18,  6.6487e+06],\n",
      "        [ 1.2000e+01,  6.5000e+01,  1.4053e+14],\n",
      "        [ 1.4053e+14,  3.0065e+10,  1.4053e+14],\n",
      "        [ 0.0000e+00,  8.0204e+18,  1.2800e+02]])\n",
      "\n",
      "Random 5x3 tensor:\n",
      "tensor([[ 0.0863,  0.9402,  0.4183],\n",
      "        [ 0.9412,  0.4820,  0.1119],\n",
      "        [ 0.1802,  0.7484,  0.2413],\n",
      "        [ 0.2143,  0.8955,  0.0017],\n",
      "        [ 0.4629,  0.8880,  0.3452]])\n",
      "\n",
      "Zeros 5x3 tensor:\n",
      "tensor([[ 0,  0,  0],\n",
      "        [ 0,  0,  0],\n",
      "        [ 0,  0,  0],\n",
      "        [ 0,  0,  0],\n",
      "        [ 0,  0,  0]])\n",
      "\n",
      "Zeros 5x3 tensor:\n",
      "tensor([[ 1.,  1.,  1.],\n",
      "        [ 1.,  1.,  1.],\n",
      "        [ 1.,  1.,  1.],\n",
      "        [ 1.,  1.,  1.],\n",
      "        [ 1.,  1.,  1.]], dtype=torch.float64)\n",
      "\n",
      "Zeros 5x3 tensor:\n",
      "tensor([[ 2.,  2.,  2.],\n",
      "        [ 2.,  2.,  2.],\n",
      "        [ 2.,  2.,  2.],\n",
      "        [ 2.,  2.,  2.],\n",
      "        [ 2.,  2.,  2.]], dtype=torch.float64)\n"
     ]
    }
   ],
   "source": [
    "# Create a matrix 2x2\n",
    "x = torch.tensor([1, 2])\n",
    "print('1x2 tensor:')\n",
    "print(x)\n",
    "print(x.size())\n",
    "\n",
    "# Create a matrix 2x2\n",
    "x = torch.tensor([[1, 2],[3, 4]])\n",
    "print('\\n2x2 tensor:')\n",
    "print(x)\n",
    "print(x.size())\n",
    "print('All rows from first collumn')\n",
    "# We can have all numpy cool matrix sub-indexing\n",
    "print(x[:, 0])\n",
    "print(x[:, 0].size())\n",
    "\n",
    "## Create unitialized 5x3 tensor\n",
    "x = torch.empty(5, 3, dtype=torch.long)\n",
    "print('\\nNon-initialized 5x3 tensor:')\n",
    "print(x)\n",
    "\n",
    "# Create random 5x3 tensor\n",
    "x = torch.rand(5, 3)\n",
    "print('\\nRandom 5x3 tensor:')\n",
    "print(x)\n",
    "\n",
    "# Create 5x3 zeros tensor of type \n",
    "print('\\nZeros 5x3 tensor:')\n",
    "x = torch.zeros(5, 3, dtype=torch.long)\n",
    "print(x)\n",
    "\n",
    "# Create 5x3 zeros tensor of type \n",
    "print('\\nZeros 5x3 tensor:')\n",
    "x = torch.ones(5, 3, dtype=torch.double)\n",
    "print(x)\n",
    "\n",
    "# Create 5x3 zeros tensor of type \n",
    "print('\\nZeros 5x3 tensor:')\n",
    "y= torch.ones(5, 3, dtype=torch.double) * 2\n",
    "print(y)"
   ]
  },
  {
   "cell_type": "markdown",
   "metadata": {},
   "source": [
    "### Operations"
   ]
  },
  {
   "cell_type": "code",
   "execution_count": 3,
   "metadata": {},
   "outputs": [
    {
     "name": "stdout",
     "output_type": "stream",
     "text": [
      "tensor([[ 3.,  3.,  3.],\n",
      "        [ 3.,  3.,  3.],\n",
      "        [ 3.,  3.,  3.],\n",
      "        [ 3.,  3.,  3.],\n",
      "        [ 3.,  3.,  3.]], dtype=torch.float64)\n",
      "tensor([[ 2.,  2.,  2.],\n",
      "        [ 2.,  2.,  2.],\n",
      "        [ 2.,  2.,  2.],\n",
      "        [ 2.,  2.,  2.],\n",
      "        [ 2.,  2.,  2.]], dtype=torch.float64)\n",
      "tensor([[ 3.5000,  3.5000,  3.5000],\n",
      "        [ 3.5000,  3.5000,  3.5000],\n",
      "        [ 3.5000,  3.5000,  3.5000],\n",
      "        [ 3.5000,  3.5000,  3.5000],\n",
      "        [ 3.5000,  3.5000,  3.5000]], dtype=torch.float64)\n",
      "tensor([ 3.5000,  3.5000,  3.5000,  3.5000,  3.5000,  3.5000,  3.5000,\n",
      "         3.5000,  3.5000,  3.5000,  3.5000,  3.5000,  3.5000,  3.5000,\n",
      "         3.5000], dtype=torch.float64)\n",
      "torch.Size([15])\n",
      "tensor([[ 3.5000,  3.5000,  3.5000,  3.5000,  3.5000],\n",
      "        [ 3.5000,  3.5000,  3.5000,  3.5000,  3.5000],\n",
      "        [ 3.5000,  3.5000,  3.5000,  3.5000,  3.5000]], dtype=torch.float64)\n",
      "torch.Size([3, 5])\n"
     ]
    }
   ],
   "source": [
    "print(x+y)\n",
    "print(x*y)\n",
    "print((x+6)/y)\n",
    "\n",
    "# Reshape\n",
    "print(((x+6)/y).view(15))\n",
    "print(((x+6)/y).view(15).size())\n",
    "print(((x+6)/y).view(3,5))\n",
    "print(((x+6)/y).view(3,5).size())"
   ]
  },
  {
   "cell_type": "markdown",
   "metadata": {},
   "source": [
    "### Numpy Bridge"
   ]
  },
  {
   "cell_type": "code",
   "execution_count": 4,
   "metadata": {},
   "outputs": [
    {
     "name": "stdout",
     "output_type": "stream",
     "text": [
      "[[2. 2. 2.]\n",
      " [2. 2. 2.]\n",
      " [2. 2. 2.]\n",
      " [2. 2. 2.]\n",
      " [2. 2. 2.]]\n",
      "(5, 3)\n",
      "<class 'numpy.ndarray'>\n",
      "tensor([[ 2.,  2.,  2.],\n",
      "        [ 2.,  2.,  2.],\n",
      "        [ 2.,  2.,  2.],\n",
      "        [ 2.,  2.,  2.],\n",
      "        [ 2.,  2.,  2.]], dtype=torch.float64)\n",
      "torch.Size([5, 3])\n",
      "<class 'torch.Tensor'>\n"
     ]
    }
   ],
   "source": [
    "# Convert torch tensor to numpy\n",
    "y_numpy = y.numpy()\n",
    "print(y_numpy)\n",
    "print(y_numpy.shape)\n",
    "print(type(y_numpy))\n",
    "\n",
    "# Convert numpy ndarray to torch\n",
    "y_torch = torch.from_numpy(y_numpy)\n",
    "print(y_torch)\n",
    "print(y_torch.size())\n",
    "print(type(y_torch))"
   ]
  },
  {
   "cell_type": "markdown",
   "metadata": {},
   "source": [
    "### Working with GPU"
   ]
  },
  {
   "cell_type": "code",
   "execution_count": 5,
   "metadata": {},
   "outputs": [
    {
     "name": "stdout",
     "output_type": "stream",
     "text": [
      "True\n",
      "tensor([[-1.5000, -1.5000, -1.5000],\n",
      "        [-1.5000, -1.5000, -1.5000],\n",
      "        [-1.5000, -1.5000, -1.5000],\n",
      "        [-1.5000, -1.5000, -1.5000],\n",
      "        [-1.5000, -1.5000, -1.5000]], dtype=torch.float64, device='cuda:0')\n",
      "tensor([[-1.5000, -1.5000, -1.5000],\n",
      "        [-1.5000, -1.5000, -1.5000],\n",
      "        [-1.5000, -1.5000, -1.5000],\n",
      "        [-1.5000, -1.5000, -1.5000],\n",
      "        [-1.5000, -1.5000, -1.5000]], dtype=torch.float64)\n"
     ]
    }
   ],
   "source": [
    "print(torch.cuda.is_available())\n",
    "if torch.cuda.is_available():\n",
    "    # Point to your GPU\n",
    "    device = torch.device(\"cuda:0\") \n",
    "    # Move tensor on GPU\n",
    "    x_gpu = x.to(device)\n",
    "    y_gpu = y.to(device)\n",
    "    # Create tensor on GPU\n",
    "    b_gpu = torch.ones_like(x, device=device) + 3.5\n",
    "    # Result and the calculation will be on the GPU\n",
    "    result = x_gpu + y_gpu - b_gpu\n",
    "    print(result)\n",
    "    # Move to CPU\n",
    "    result_cpu = result.to(\"cpu\", torch.double)\n",
    "    print(result_cpu)"
   ]
  },
  {
   "cell_type": "markdown",
   "metadata": {},
   "source": [
    "### Autograd"
   ]
  },
  {
   "cell_type": "code",
   "execution_count": 6,
   "metadata": {},
   "outputs": [
    {
     "name": "stdout",
     "output_type": "stream",
     "text": [
      "tensor([ 10.])\n",
      "<AddBackward1 object at 0x7fcf88efca20>\n"
     ]
    }
   ],
   "source": [
    "a = torch.ones(1, requires_grad=True)\n",
    "b = torch.ones(1, requires_grad=True)\n",
    "c = torch.ones(1, requires_grad=True)\n",
    "y = ((2*a) * (3*b)) + (4*c)\n",
    "print(y)\n",
    "y.backward()\n",
    "print(y.grad_fn)"
   ]
  },
  {
   "cell_type": "code",
   "execution_count": 7,
   "metadata": {},
   "outputs": [
    {
     "name": "stdout",
     "output_type": "stream",
     "text": [
      "tensor([ 6.])\n",
      "tensor([ 6.])\n",
      "tensor([ 4.])\n"
     ]
    }
   ],
   "source": [
    "print(a.grad)\n",
    "print(b.grad)\n",
    "print(c.grad)"
   ]
  },
  {
   "cell_type": "markdown",
   "metadata": {},
   "source": [
    "### Simple MLP for XOR problem"
   ]
  },
  {
   "cell_type": "code",
   "execution_count": 8,
   "metadata": {},
   "outputs": [],
   "source": [
    "trainingdataX = [[[0.01, 0.01], [0.01, 0.90], [0.90, 0.01], [0.95, 0.95]], \n",
    "                 [[0.02, 0.03], [0.04, 0.95], [0.97, 0.02], [0.96, 0.95]]]\n",
    "trainingdataY = [[[0.01], [0.90], [0.90], [0.01]], [[0.04], [0.97], [0.98], [0.1]]]\n",
    "num_epoch = 100"
   ]
  },
  {
   "cell_type": "code",
   "execution_count": 9,
   "metadata": {},
   "outputs": [],
   "source": [
    "class Net(nn.Module):\n",
    "    # Add layers\n",
    "    def __init__(self):\n",
    "        super(Net, self).__init__()\n",
    "        self.fc1 = nn.Linear(2, 50)  # 2 Input noses, 50 in middle layers\n",
    "        self.fc2 = nn.Linear(50, 1)  # 50 middle layer, 1 output nodes\n",
    "        self.rl1 = nn.ReLU()\n",
    "        self.rl2 = nn.ReLU()\n",
    "\n",
    "    # Define Forward propagation graph\n",
    "    def forward(self, x):\n",
    "        x = self.fc1(x)\n",
    "        x = self.rl1(x)\n",
    "        x = self.fc2(x)\n",
    "        x = self.rl2(x)\n",
    "        return x"
   ]
  },
  {
   "cell_type": "code",
   "execution_count": 10,
   "metadata": {},
   "outputs": [
    {
     "name": "stdout",
     "output_type": "stream",
     "text": [
      "Net(\n",
      "  (fc1): Linear(in_features=2, out_features=50, bias=True)\n",
      "  (fc2): Linear(in_features=50, out_features=1, bias=True)\n",
      "  (rl1): ReLU()\n",
      "  (rl2): ReLU()\n",
      ")\n"
     ]
    }
   ],
   "source": [
    "# Tensorboard writer\n",
    "writer = SummaryWriter()\n",
    "\n",
    "# Create network\n",
    "net = Net()\n",
    "print(net)\n",
    "\n",
    "# Send graph to tensorboard\n",
    "writer.add_graph(net, torch.rand(4,2))\n",
    "\n",
    "# Loss (Mean squared error)\n",
    "criterion = nn.MSELoss()\n",
    "\n",
    "# Stochastic Gradient Descent Optimizer \n",
    "optimizer = optim.SGD(net.parameters(), lr=0.1, momentum=0.1)"
   ]
  },
  {
   "cell_type": "code",
   "execution_count": 11,
   "metadata": {},
   "outputs": [
    {
     "name": "stdout",
     "output_type": "stream",
     "text": [
      "loss:  0 0.19390258193016052\n",
      "loss:  0 0.17559272050857544\n",
      "loss:  0 0.16703534126281738\n",
      "loss:  0 0.15745577216148376\n",
      "loss:  0 0.1487674117088318\n",
      "loss:  0 0.1402340978384018\n",
      "loss:  0 0.1317737102508545\n",
      "loss:  0 0.12346547842025757\n",
      "loss:  0 0.11555860936641693\n",
      "loss:  0 0.10791541635990143\n",
      "loss:  0 0.10041213035583496\n",
      "loss:  0 0.09299322217702866\n",
      "loss:  0 0.08637244999408722\n",
      "loss:  0 0.07968957722187042\n",
      "loss:  0 0.07305885851383209\n",
      "loss:  0 0.06728613376617432\n",
      "loss:  0 0.06158054620027542\n",
      "loss:  0 0.05596209689974785\n",
      "loss:  0 0.05126432701945305\n",
      "loss:  0 0.046604834496974945\n",
      "loss:  0 0.042092807590961456\n",
      "loss:  0 0.03865436092019081\n",
      "loss:  0 0.03532835468649864\n",
      "loss:  0 0.031925275921821594\n",
      "loss:  0 0.029243800789117813\n",
      "loss:  0 0.026491202414035797\n",
      "loss:  0 0.02451477386057377\n",
      "loss:  0 0.022008556872606277\n",
      "loss:  0 0.020647196099162102\n",
      "loss:  0 0.018717125058174133\n",
      "loss:  0 0.01751130446791649\n",
      "loss:  0 0.016081802546977997\n",
      "loss:  0 0.015252402052283287\n",
      "loss:  0 0.01397533155977726\n",
      "loss:  0 0.013382933102548122\n",
      "loss:  0 0.012470103800296783\n",
      "loss:  0 0.011909875087440014\n",
      "loss:  0 0.011247009038925171\n",
      "loss:  0 0.01089019887149334\n",
      "loss:  0 0.010231089778244495\n",
      "loss:  0 0.009977074339985847\n",
      "loss:  0 0.009730208665132523\n",
      "loss:  0 0.009340236894786358\n",
      "loss:  0 0.009015066549181938\n",
      "loss:  0 0.008872902020812035\n",
      "loss:  0 0.008524629287421703\n",
      "loss:  0 0.008337493054568768\n",
      "loss:  0 0.008245568722486496\n",
      "loss:  0 0.007937800139188766\n",
      "loss:  0 0.007732017897069454\n",
      "loss:  0 0.0076347230933606625\n",
      "loss:  0 0.007609576918184757\n",
      "loss:  0 0.007318825460970402\n",
      "loss:  0 0.007237425073981285\n",
      "loss:  0 0.007103869691491127\n",
      "loss:  0 0.0015245795948430896\n",
      "loss:  0 0.006739200092852116\n",
      "loss:  0 0.0012224273523315787\n",
      "loss:  0 0.006590221077203751\n",
      "loss:  0 0.000980663811787963\n",
      "loss:  0 0.006488404236733913\n",
      "loss:  0 0.0008684357162564993\n",
      "loss:  0 0.006367597728967667\n",
      "loss:  0 0.0007467715186066926\n",
      "loss:  0 0.0062723904848098755\n",
      "loss:  0 0.0007314605172723532\n",
      "loss:  0 0.0010778687428683043\n",
      "loss:  0 0.000935366319026798\n",
      "loss:  0 0.0009334107162430882\n",
      "loss:  0 0.000858246348798275\n",
      "loss:  0 0.0008905256981961429\n",
      "loss:  0 0.0008149032946676016\n",
      "loss:  0 0.000828202348202467\n",
      "loss:  0 0.0008266929071396589\n",
      "loss:  0 0.0007754774997010827\n",
      "loss:  0 0.0008034528000280261\n",
      "loss:  0 0.0008093357319012284\n",
      "loss:  0 0.0007853035349398851\n",
      "loss:  0 0.0007894357549957931\n",
      "loss:  0 0.0007859898032620549\n",
      "loss:  0 0.000792962615378201\n",
      "loss:  0 0.0007475415477529168\n",
      "loss:  0 0.0007923656376078725\n",
      "loss:  0 0.0007783093606121838\n",
      "loss:  0 0.0007898304611444473\n",
      "loss:  0 0.0007861544727347791\n",
      "loss:  0 0.0007775574922561646\n",
      "loss:  0 0.0007737856358289719\n",
      "loss:  0 0.0007864048238843679\n",
      "loss:  0 0.0007856827578507364\n",
      "loss:  0 0.0007405654178000987\n",
      "loss:  0 0.0007854453870095313\n",
      "loss:  0 0.0007768846116960049\n",
      "loss:  0 0.0007791586685925722\n",
      "loss:  0 0.0007814423879608512\n",
      "loss:  0 0.000768976635299623\n",
      "loss:  0 0.0007777033024467528\n",
      "loss:  0 0.0007733496022410691\n",
      "loss:  0 0.0007657948299311101\n",
      "loss:  0 0.0007754504331387579\n"
     ]
    }
   ],
   "source": [
    "for epoch in range(num_epoch):\n",
    "    running_loss = 0.0\n",
    "    for i, data in enumerate(trainingdataX, 0):\n",
    "        inputs = data\n",
    "        labels = trainingdataY[i]\n",
    "        \n",
    "        # Convert input/labels to torch tensors\n",
    "        inputs = torch.FloatTensor(inputs)\n",
    "        labels = torch.FloatTensor(labels)\n",
    "        \n",
    "        # Manually set gradients to zero before the loss.backward() and optimizer.step()\n",
    "        optimizer.zero_grad()\n",
    "        \n",
    "        # Forward Propagation\n",
    "        outputs = net(inputs)\n",
    "                \n",
    "        # Compute loss\n",
    "        loss = criterion(outputs, labels)\n",
    "        \n",
    "        # Compute loss backpropagation\n",
    "        loss.backward()\n",
    "        \n",
    "        # Run optimizer\n",
    "        optimizer.step()\n",
    "        \n",
    "        # Get loss scalar value\n",
    "        running_loss += loss.item()                \n",
    "        \n",
    "        if i % 100 == 0:\n",
    "            print(\"loss: \", i, running_loss)\n",
    "            # Send loss to tensorboard\n",
    "            writer.add_scalar('loss', running_loss, epoch)\n",
    "            running_loss = 0.0\n",
    "\n",
    "# Close summary writer\n",
    "writer.close()"
   ]
  }
 ],
 "metadata": {
  "kernelspec": {
   "display_name": "Python 3",
   "language": "python",
   "name": "python3"
  },
  "language_info": {
   "codemirror_mode": {
    "name": "ipython",
    "version": 3
   },
   "file_extension": ".py",
   "mimetype": "text/x-python",
   "name": "python",
   "nbconvert_exporter": "python",
   "pygments_lexer": "ipython3",
   "version": "3.5.2"
  }
 },
 "nbformat": 4,
 "nbformat_minor": 2
}
